{
 "cells": [
  {
   "cell_type": "code",
   "execution_count": 1,
   "metadata": {},
   "outputs": [
    {
     "name": "stdout",
     "output_type": "stream",
     "text": [
      "my name is yauno, 24 years old in hex is 0x18, in oct is 24\n"
     ]
    }
   ],
   "source": [
    "# 28. .format使用方式\n",
    "# (1) 使用位置符号\n",
    "print(\"my name is {0}, {1:,} years old in hex is {1:#x}, in oct is {1:#}\".format(\"yauno\", 24))"
   ]
  },
  {
   "cell_type": "code",
   "execution_count": 5,
   "metadata": {},
   "outputs": [
    {
     "name": "stdout",
     "output_type": "stream",
     "text": [
      "my name is yauno, 24 years old\n"
     ]
    }
   ],
   "source": [
    "# (2) 使用名称\n",
    "print(\"my name is {name}, {year} years old\".format(name='yauno', year=24))"
   ]
  },
  {
   "cell_type": "code",
   "execution_count": 6,
   "metadata": {},
   "outputs": [],
   "source": [
    "# (3) 通过属性\n",
    "class Test():\n",
    "    def __init__(self, name, year):\n",
    "        self.name = name\n",
    "        self.year = year\n",
    "    \n",
    "    def __str__(self):\n",
    "        return \"my name is {self.name}, {self.year} years old.\".format( =self)"
   ]
  },
  {
   "cell_type": "code",
   "execution_count": 7,
   "metadata": {},
   "outputs": [
    {
     "data": {
      "text/plain": [
       "'my name is yauno, 24 years old.'"
      ]
     },
     "execution_count": 7,
     "metadata": {},
     "output_type": "execute_result"
    }
   ],
   "source": [
    "str(Test('yauno', 24))"
   ]
  },
  {
   "cell_type": "code",
   "execution_count": 8,
   "metadata": {},
   "outputs": [
    {
     "name": "stdout",
     "output_type": "stream",
     "text": [
      "my name is yauno, 24 years old.\n"
     ]
    }
   ],
   "source": [
    "# (4) 格式化元组\n",
    "tup = ('yauno', 24)\n",
    "print(\"my name is {0[0]}, {0[1]} years old.\".format(tup))"
   ]
  },
  {
   "cell_type": "code",
   "execution_count": 21,
   "metadata": {},
   "outputs": [],
   "source": [
    "# 35. stacticmethod 与 classmethod区别\n",
    "# 两者都是给类使用的\n",
    "\n",
    "import time\n",
    "class Date:\n",
    "    def __init__(self, year, month, day):\n",
    "        self.year = year\n",
    "        self.month = month\n",
    "        self.day = day\n",
    "        \n",
    "    @staticmethod\n",
    "    def now(): #用Date.now()的形式去产生实例,该实例用的是当前时间\n",
    "        t=time.localtime() #获取结构化的时间格式\n",
    "        return Date(t.tm_year,t.tm_mon,t.tm_mday) #新建实例并且返回\n",
    "    \n",
    "    @staticmethod\n",
    "    def tomorrow():#用Date.tomorrow()的形式去产生实例,该实例用的是明天的时间\n",
    "        t=time.localtime(time.time()+86400)\n",
    "        return Date(t.tm_year,t.tm_mon,t.tm_mday)"
   ]
  },
  {
   "cell_type": "code",
   "execution_count": 22,
   "metadata": {},
   "outputs": [
    {
     "name": "stdout",
     "output_type": "stream",
     "text": [
      "1987 11 27\n",
      "2019 1 29\n",
      "2019 1 30\n"
     ]
    }
   ],
   "source": [
    "\n",
    "a=Date('1987', 11, 27) #自己定义时间\n",
    "b=Date.now() #采用当前时间\n",
    "c=Date.tomorrow() #采用明天的时间\n",
    "\n",
    "print(a.year,a.month,a.day)\n",
    "print(b.year,b.month,b.day)\n",
    "print(c.year,c.month,c.day)"
   ]
  },
  {
   "cell_type": "code",
   "execution_count": 25,
   "metadata": {},
   "outputs": [],
   "source": [
    "import time\n",
    "\n",
    "class Date:\n",
    "    def __init__(self, year, month, day):\n",
    "        self.year = year\n",
    "        self.month = month\n",
    "        self.day = day\n",
    "        \n",
    "    @classmethod\n",
    "    def now(cls):\n",
    "        t=time.localtime()\n",
    "        return cls(t.tm_year,t.tm_mon,t.tm_mday)\n",
    "    \n",
    "class TestDate(Date):\n",
    "    def __str__(self):\n",
    "        return 'year: {self.year}, month: {self.month}, day: {self.day}'.format(self=self)"
   ]
  },
  {
   "cell_type": "code",
   "execution_count": 26,
   "metadata": {},
   "outputs": [
    {
     "name": "stdout",
     "output_type": "stream",
     "text": [
      "year: 2019, month: 1, day: 29\n"
     ]
    }
   ],
   "source": [
    "test = TestDate.now()\n",
    "print(test)"
   ]
  },
  {
   "cell_type": "code",
   "execution_count": 37,
   "metadata": {},
   "outputs": [
    {
     "data": {
      "text/plain": [
       "(['b', 2, 'bb'], ['a', 1, 'aa'])"
      ]
     },
     "execution_count": 37,
     "metadata": {},
     "output_type": "execute_result"
    }
   ],
   "source": [
    "# 37. sorted 与 sort()的使用\n",
    "from operator import itemgetter\n",
    "\n",
    "test_data = [['a',1,'aa'], ['b', 2, 'bb']]\n",
    "func = itemgetter(1, 0)\n",
    "func(test_data)"
   ]
  },
  {
   "cell_type": "code",
   "execution_count": 8,
   "metadata": {},
   "outputs": [],
   "source": [
    "# 55. __init__不是构造方法\n",
    "class Test(object):\n",
    "    def __new__(cls, x, y):\n",
    "        print(\"__new__\")\n",
    "        print(cls)\n",
    "        return super(Test, cls).__new__(cls)\n",
    "    \n",
    "    def __init__(self, x, y):\n",
    "        print(\"\\n__init__\")\n",
    "        self.x = x\n",
    "        self.y = y\n",
    "        "
   ]
  },
  {
   "cell_type": "code",
   "execution_count": 9,
   "metadata": {},
   "outputs": [
    {
     "name": "stdout",
     "output_type": "stream",
     "text": [
      "__new__\n",
      "<class '__main__.Test'>\n",
      "\n",
      "__init__\n"
     ]
    }
   ],
   "source": [
    "t = Test(2, 3)"
   ]
  },
  {
   "cell_type": "code",
   "execution_count": 23,
   "metadata": {},
   "outputs": [],
   "source": [
    "class A(object):\n",
    "    def __init__(self, x=2):\n",
    "        print(\"A.__init__\")\n",
    "        self.x = x\n",
    "\n",
    "class B(A):\n",
    "    def __init__(self, x=None):\n",
    "        super(B, self).__init__() # 继承父类私有变量\n",
    "        print(\"B.__init__\")\n",
    "        self.y = x\n",
    "        "
   ]
  },
  {
   "cell_type": "code",
   "execution_count": 27,
   "metadata": {},
   "outputs": [
    {
     "name": "stdout",
     "output_type": "stream",
     "text": [
      "A.__init__\n",
      "B.__init__\n"
     ]
    },
    {
     "data": {
      "text/plain": [
       "2"
      ]
     },
     "execution_count": 27,
     "metadata": {},
     "output_type": "execute_result"
    }
   ],
   "source": [
    "t = B()\n",
    "t.x"
   ]
  },
  {
   "cell_type": "code",
   "execution_count": 29,
   "metadata": {},
   "outputs": [],
   "source": [
    "# 工厂模式\n",
    "class shape(object):\n",
    "    def __init__(object):\n",
    "        pass\n",
    "    def draw(self):\n",
    "        pass\n",
    "    \n",
    "class Triangle(shape):\n",
    "    def __init__(self):\n",
    "        pass\n",
    "    def draw(self):\n",
    "        print(\"triangle\")\n",
    "        \n",
    "class Circle(shape):\n",
    "    def __init__(self):\n",
    "        pass\n",
    "    def draw(self):\n",
    "        print(\"circle\")\n",
    "        \n",
    "class ShapeFactory(object):\n",
    "    shapes = {'triangle':Triangle, 'circle':Circle}\n",
    "    \n",
    "    def __new__(cls, name):\n",
    "        if name in ShapeFactory.shapes.keys():\n",
    "            print(\"creating %s\" % name)\n",
    "            return ShapeFactory.shapes[name]()\n",
    "        else:\n",
    "            print(\"creating shape.\")\n",
    "            return shape()"
   ]
  },
  {
   "cell_type": "code",
   "execution_count": 30,
   "metadata": {},
   "outputs": [
    {
     "name": "stdout",
     "output_type": "stream",
     "text": [
      "creating circle\n",
      "circle\n"
     ]
    }
   ],
   "source": [
    "t = ShapeFactory('circle').draw()"
   ]
  },
  {
   "cell_type": "code",
   "execution_count": 31,
   "metadata": {},
   "outputs": [
    {
     "name": "stdout",
     "output_type": "stream",
     "text": [
      "creating shape.\n"
     ]
    }
   ],
   "source": [
    "ShapeFactory('xxx').draw()"
   ]
  },
  {
   "cell_type": "code",
   "execution_count": 32,
   "metadata": {},
   "outputs": [
    {
     "data": {
      "text/plain": [
       "{'__name__': '__main__',\n",
       " '__doc__': 'Automatically created module for IPython interactive environment',\n",
       " '__package__': None,\n",
       " '__loader__': None,\n",
       " '__spec__': None,\n",
       " '__builtin__': <module 'builtins' (built-in)>,\n",
       " '__builtins__': <module 'builtins' (built-in)>,\n",
       " '_ih': ['',\n",
       "  '# 55. __init__不是构造方法\\nclass Test(object):\\n    def __new__(cls, *args, **kwargs):\\n        print(\"__new__\")\\n        print(cls)\\n        return super(Test, cls).__new__(cls, *args, **kwargs):\\n    \\n    def __init__(self, x, y):\\n        print(\"__init__\")\\n        self.x = x\\n        self.y = y\\n        ',\n",
       "  '# 55. __init__不是构造方法\\nclass Test(object):\\n    def __new__(cls, *args, **kwargs):\\n        print(\"__new__\")\\n        print(cls)\\n        return super(Test, cls).__new__(cls, *args, **kwargs)\\n    \\n    def __init__(self, x, y):\\n        print(\"__init__\")\\n        self.x = x\\n        self.y = y\\n        ',\n",
       "  't = Test(2, 3)',\n",
       "  '# 55. __init__不是构造方法\\nclass Test(object):\\n    def __new__(cls, x, y):\\n        print(\"__new__\")\\n        print(cls)\\n        return super(Test, cls).__new__(cls, x, y)\\n    \\n    def __init__(self, x, y):\\n        print(\"__init__\")\\n        self.x = x\\n        self.y = y\\n        ',\n",
       "  't = Test(2, 3)',\n",
       "  '# 55. __init__不是构造方法\\nclass Test(object):\\n    def __new__(cls, x, y):\\n        print(\"__new__\")\\n        print(cls)\\n        return super(Test, cls).__new__(cls)\\n    \\n    def __init__(self, x, y):\\n        print(\"__init__\")\\n        self.x = x\\n        self.y = y\\n        ',\n",
       "  't = Test(2, 3)',\n",
       "  '# 55. __init__不是构造方法\\nclass Test(object):\\n    def __new__(cls, x, y):\\n        print(\"__new__\")\\n        print(cls)\\n        return super(Test, cls).__new__(cls)\\n    \\n    def __init__(self, x, y):\\n        print(\"\\\\n__init__\")\\n        self.x = x\\n        self.y = y\\n        ',\n",
       "  't = Test(2, 3)',\n",
       "  'class A(object):\\n    def __init__(self, x=2):\\n        print(\"A.__init__\")\\n        self.x = x\\n\\nclass B(A):\\n    def __init__(self, x=None):\\n        print(\"B.__init__\")\\n        self.x = x\\n        ',\n",
       "  't = B()',\n",
       "  't.x',\n",
       "  't.x',\n",
       "  'class A(object):\\n    def __init__(self, x=2):\\n        print(\"A.__init__\")\\n        self.x = x\\n\\nclass B(A):\\n    def __init__(self, x=None):\\n        super(B, self).__init__()\\n        print(\"B.__init__\")\\n        self.x = x\\n        ',\n",
       "  't = B()',\n",
       "  't.x',\n",
       "  't.x',\n",
       "  'class A(object):\\n    def __init__(self, x=2):\\n        print(\"A.__init__\")\\n        self.x = x\\n\\nclass B(A):\\n    def __init__(self, x=None):\\n        # super(B, self).__init__()\\n        print(\"B.__init__\")\\n        self.x = x\\n        ',\n",
       "  't = B()',\n",
       "  'class A(object):\\n    def __init__(self, x=2):\\n        print(\"A.__init__\")\\n        self.x = x\\n\\nclass B(A):\\n    def __init__(self, x=None):\\n        # super(B, self).__init__()\\n        print(\"B.__init__\")\\n        self.y = x\\n        ',\n",
       "  't = B()',\n",
       "  't.x',\n",
       "  'class A(object):\\n    def __init__(self, x=2):\\n        print(\"A.__init__\")\\n        self.x = x\\n\\nclass B(A):\\n    def __init__(self, x=None):\\n        super(B, self).__init__()\\n        print(\"B.__init__\")\\n        self.y = x\\n        ',\n",
       "  't = B()',\n",
       "  't.x',\n",
       "  't = B()\\nt.x',\n",
       "  't = B()\\nt.x',\n",
       "  '# 工厂模式\\nclass shape(object):\\n    def __init__(object):\\n        pass\\n    def draw(self):\\n        pass\\n    \\nclass Triangle(shape):\\n    def __init__(self):',\n",
       "  '# 工厂模式\\nclass shape(object):\\n    def __init__(object):\\n        pass\\n    def draw(self):\\n        pass\\n    \\nclass Triangle(shape):\\n    def __init__(self):\\n        pass\\n    def draw(self):\\n        print(\"triangle\")\\n        \\nclass Circle(shape):\\n    def __init__(self):\\n        pass\\n    def draw(self):\\n        print(\"circle\")\\n        \\nclass ShapeFactory(object):\\n    shapes = {\\'triangle\\':Triangle, \\'circle\\':Circle}\\n    \\n    def __new__(cls, name):\\n        if name in ShapeFactory.shapes.keys():\\n            print(\"creating %s\" % name)\\n            return ShapeFactory.shapes[name]()\\n        else:\\n            print(\"creating shape.\")\\n            return shape()',\n",
       "  \"t = ShapeFactory('circle').draw()\",\n",
       "  \"ShapeFactory('xxx').draw()\",\n",
       "  'locals()'],\n",
       " '_oh': {25: 2, 26: 2, 27: 2},\n",
       " '_dh': ['C:\\\\Study\\\\github\\\\Lookoops\\\\python\\\\note'],\n",
       " 'In': ['',\n",
       "  '# 55. __init__不是构造方法\\nclass Test(object):\\n    def __new__(cls, *args, **kwargs):\\n        print(\"__new__\")\\n        print(cls)\\n        return super(Test, cls).__new__(cls, *args, **kwargs):\\n    \\n    def __init__(self, x, y):\\n        print(\"__init__\")\\n        self.x = x\\n        self.y = y\\n        ',\n",
       "  '# 55. __init__不是构造方法\\nclass Test(object):\\n    def __new__(cls, *args, **kwargs):\\n        print(\"__new__\")\\n        print(cls)\\n        return super(Test, cls).__new__(cls, *args, **kwargs)\\n    \\n    def __init__(self, x, y):\\n        print(\"__init__\")\\n        self.x = x\\n        self.y = y\\n        ',\n",
       "  't = Test(2, 3)',\n",
       "  '# 55. __init__不是构造方法\\nclass Test(object):\\n    def __new__(cls, x, y):\\n        print(\"__new__\")\\n        print(cls)\\n        return super(Test, cls).__new__(cls, x, y)\\n    \\n    def __init__(self, x, y):\\n        print(\"__init__\")\\n        self.x = x\\n        self.y = y\\n        ',\n",
       "  't = Test(2, 3)',\n",
       "  '# 55. __init__不是构造方法\\nclass Test(object):\\n    def __new__(cls, x, y):\\n        print(\"__new__\")\\n        print(cls)\\n        return super(Test, cls).__new__(cls)\\n    \\n    def __init__(self, x, y):\\n        print(\"__init__\")\\n        self.x = x\\n        self.y = y\\n        ',\n",
       "  't = Test(2, 3)',\n",
       "  '# 55. __init__不是构造方法\\nclass Test(object):\\n    def __new__(cls, x, y):\\n        print(\"__new__\")\\n        print(cls)\\n        return super(Test, cls).__new__(cls)\\n    \\n    def __init__(self, x, y):\\n        print(\"\\\\n__init__\")\\n        self.x = x\\n        self.y = y\\n        ',\n",
       "  't = Test(2, 3)',\n",
       "  'class A(object):\\n    def __init__(self, x=2):\\n        print(\"A.__init__\")\\n        self.x = x\\n\\nclass B(A):\\n    def __init__(self, x=None):\\n        print(\"B.__init__\")\\n        self.x = x\\n        ',\n",
       "  't = B()',\n",
       "  't.x',\n",
       "  't.x',\n",
       "  'class A(object):\\n    def __init__(self, x=2):\\n        print(\"A.__init__\")\\n        self.x = x\\n\\nclass B(A):\\n    def __init__(self, x=None):\\n        super(B, self).__init__()\\n        print(\"B.__init__\")\\n        self.x = x\\n        ',\n",
       "  't = B()',\n",
       "  't.x',\n",
       "  't.x',\n",
       "  'class A(object):\\n    def __init__(self, x=2):\\n        print(\"A.__init__\")\\n        self.x = x\\n\\nclass B(A):\\n    def __init__(self, x=None):\\n        # super(B, self).__init__()\\n        print(\"B.__init__\")\\n        self.x = x\\n        ',\n",
       "  't = B()',\n",
       "  'class A(object):\\n    def __init__(self, x=2):\\n        print(\"A.__init__\")\\n        self.x = x\\n\\nclass B(A):\\n    def __init__(self, x=None):\\n        # super(B, self).__init__()\\n        print(\"B.__init__\")\\n        self.y = x\\n        ',\n",
       "  't = B()',\n",
       "  't.x',\n",
       "  'class A(object):\\n    def __init__(self, x=2):\\n        print(\"A.__init__\")\\n        self.x = x\\n\\nclass B(A):\\n    def __init__(self, x=None):\\n        super(B, self).__init__()\\n        print(\"B.__init__\")\\n        self.y = x\\n        ',\n",
       "  't = B()',\n",
       "  't.x',\n",
       "  't = B()\\nt.x',\n",
       "  't = B()\\nt.x',\n",
       "  '# 工厂模式\\nclass shape(object):\\n    def __init__(object):\\n        pass\\n    def draw(self):\\n        pass\\n    \\nclass Triangle(shape):\\n    def __init__(self):',\n",
       "  '# 工厂模式\\nclass shape(object):\\n    def __init__(object):\\n        pass\\n    def draw(self):\\n        pass\\n    \\nclass Triangle(shape):\\n    def __init__(self):\\n        pass\\n    def draw(self):\\n        print(\"triangle\")\\n        \\nclass Circle(shape):\\n    def __init__(self):\\n        pass\\n    def draw(self):\\n        print(\"circle\")\\n        \\nclass ShapeFactory(object):\\n    shapes = {\\'triangle\\':Triangle, \\'circle\\':Circle}\\n    \\n    def __new__(cls, name):\\n        if name in ShapeFactory.shapes.keys():\\n            print(\"creating %s\" % name)\\n            return ShapeFactory.shapes[name]()\\n        else:\\n            print(\"creating shape.\")\\n            return shape()',\n",
       "  \"t = ShapeFactory('circle').draw()\",\n",
       "  \"ShapeFactory('xxx').draw()\",\n",
       "  'locals()'],\n",
       " 'Out': {25: 2, 26: 2, 27: 2},\n",
       " 'get_ipython': <bound method InteractiveShell.get_ipython of <ipykernel.zmqshell.ZMQInteractiveShell object at 0x00000217CD185630>>,\n",
       " 'exit': <IPython.core.autocall.ZMQExitAutocall at 0x217cd2e2710>,\n",
       " 'quit': <IPython.core.autocall.ZMQExitAutocall at 0x217cd2e2710>,\n",
       " '_': 2,\n",
       " '__': 2,\n",
       " '___': 2,\n",
       " '_i': \"ShapeFactory('xxx').draw()\",\n",
       " '_ii': \"t = ShapeFactory('circle').draw()\",\n",
       " '_iii': '# 工厂模式\\nclass shape(object):\\n    def __init__(object):\\n        pass\\n    def draw(self):\\n        pass\\n    \\nclass Triangle(shape):\\n    def __init__(self):\\n        pass\\n    def draw(self):\\n        print(\"triangle\")\\n        \\nclass Circle(shape):\\n    def __init__(self):\\n        pass\\n    def draw(self):\\n        print(\"circle\")\\n        \\nclass ShapeFactory(object):\\n    shapes = {\\'triangle\\':Triangle, \\'circle\\':Circle}\\n    \\n    def __new__(cls, name):\\n        if name in ShapeFactory.shapes.keys():\\n            print(\"creating %s\" % name)\\n            return ShapeFactory.shapes[name]()\\n        else:\\n            print(\"creating shape.\")\\n            return shape()',\n",
       " '_i1': '# 55. __init__不是构造方法\\nclass Test(object):\\n    def __new__(cls, *args, **kwargs):\\n        print(\"__new__\")\\n        print(cls)\\n        return super(Test, cls).__new__(cls, *args, **kwargs):\\n    \\n    def __init__(self, x, y):\\n        print(\"__init__\")\\n        self.x = x\\n        self.y = y\\n        ',\n",
       " '_i2': '# 55. __init__不是构造方法\\nclass Test(object):\\n    def __new__(cls, *args, **kwargs):\\n        print(\"__new__\")\\n        print(cls)\\n        return super(Test, cls).__new__(cls, *args, **kwargs)\\n    \\n    def __init__(self, x, y):\\n        print(\"__init__\")\\n        self.x = x\\n        self.y = y\\n        ',\n",
       " 'Test': __main__.Test,\n",
       " '_i3': 't = Test(2, 3)',\n",
       " '_i4': '# 55. __init__不是构造方法\\nclass Test(object):\\n    def __new__(cls, x, y):\\n        print(\"__new__\")\\n        print(cls)\\n        return super(Test, cls).__new__(cls, x, y)\\n    \\n    def __init__(self, x, y):\\n        print(\"__init__\")\\n        self.x = x\\n        self.y = y\\n        ',\n",
       " '_i5': 't = Test(2, 3)',\n",
       " '_i6': '# 55. __init__不是构造方法\\nclass Test(object):\\n    def __new__(cls, x, y):\\n        print(\"__new__\")\\n        print(cls)\\n        return super(Test, cls).__new__(cls)\\n    \\n    def __init__(self, x, y):\\n        print(\"__init__\")\\n        self.x = x\\n        self.y = y\\n        ',\n",
       " '_i7': 't = Test(2, 3)',\n",
       " 't': None,\n",
       " '_i8': '# 55. __init__不是构造方法\\nclass Test(object):\\n    def __new__(cls, x, y):\\n        print(\"__new__\")\\n        print(cls)\\n        return super(Test, cls).__new__(cls)\\n    \\n    def __init__(self, x, y):\\n        print(\"\\\\n__init__\")\\n        self.x = x\\n        self.y = y\\n        ',\n",
       " '_i9': 't = Test(2, 3)',\n",
       " '_i10': 'class A(object):\\n    def __init__(self, x=2):\\n        print(\"A.__init__\")\\n        self.x = x\\n\\nclass B(A):\\n    def __init__(self, x=None):\\n        print(\"B.__init__\")\\n        self.x = x\\n        ',\n",
       " 'A': __main__.A,\n",
       " 'B': __main__.B,\n",
       " '_i11': 't = B()',\n",
       " '_i12': 't.x',\n",
       " '_i13': 't.x',\n",
       " '_i14': 'class A(object):\\n    def __init__(self, x=2):\\n        print(\"A.__init__\")\\n        self.x = x\\n\\nclass B(A):\\n    def __init__(self, x=None):\\n        super(B, self).__init__()\\n        print(\"B.__init__\")\\n        self.x = x\\n        ',\n",
       " '_i15': 't = B()',\n",
       " '_i16': 't.x',\n",
       " '_i17': 't.x',\n",
       " '_i18': 'class A(object):\\n    def __init__(self, x=2):\\n        print(\"A.__init__\")\\n        self.x = x\\n\\nclass B(A):\\n    def __init__(self, x=None):\\n        # super(B, self).__init__()\\n        print(\"B.__init__\")\\n        self.x = x\\n        ',\n",
       " '_i19': 't = B()',\n",
       " '_i20': 'class A(object):\\n    def __init__(self, x=2):\\n        print(\"A.__init__\")\\n        self.x = x\\n\\nclass B(A):\\n    def __init__(self, x=None):\\n        # super(B, self).__init__()\\n        print(\"B.__init__\")\\n        self.y = x\\n        ',\n",
       " '_i21': 't = B()',\n",
       " '_i22': 't.x',\n",
       " '_i23': 'class A(object):\\n    def __init__(self, x=2):\\n        print(\"A.__init__\")\\n        self.x = x\\n\\nclass B(A):\\n    def __init__(self, x=None):\\n        super(B, self).__init__()\\n        print(\"B.__init__\")\\n        self.y = x\\n        ',\n",
       " '_i24': 't = B()',\n",
       " '_i25': 't.x',\n",
       " '_25': 2,\n",
       " '_i26': 't = B()\\nt.x',\n",
       " '_26': 2,\n",
       " '_i27': 't = B()\\nt.x',\n",
       " '_27': 2,\n",
       " '_i28': '# 工厂模式\\nclass shape(object):\\n    def __init__(object):\\n        pass\\n    def draw(self):\\n        pass\\n    \\nclass Triangle(shape):\\n    def __init__(self):',\n",
       " '_i29': '# 工厂模式\\nclass shape(object):\\n    def __init__(object):\\n        pass\\n    def draw(self):\\n        pass\\n    \\nclass Triangle(shape):\\n    def __init__(self):\\n        pass\\n    def draw(self):\\n        print(\"triangle\")\\n        \\nclass Circle(shape):\\n    def __init__(self):\\n        pass\\n    def draw(self):\\n        print(\"circle\")\\n        \\nclass ShapeFactory(object):\\n    shapes = {\\'triangle\\':Triangle, \\'circle\\':Circle}\\n    \\n    def __new__(cls, name):\\n        if name in ShapeFactory.shapes.keys():\\n            print(\"creating %s\" % name)\\n            return ShapeFactory.shapes[name]()\\n        else:\\n            print(\"creating shape.\")\\n            return shape()',\n",
       " 'shape': __main__.shape,\n",
       " 'Triangle': __main__.Triangle,\n",
       " 'Circle': __main__.Circle,\n",
       " 'ShapeFactory': __main__.ShapeFactory,\n",
       " '_i30': \"t = ShapeFactory('circle').draw()\",\n",
       " '_i31': \"ShapeFactory('xxx').draw()\",\n",
       " '_i32': 'locals()'}"
      ]
     },
     "execution_count": 32,
     "metadata": {},
     "output_type": "execute_result"
    }
   ],
   "source": [
    "locals()"
   ]
  },
  {
   "cell_type": "code",
   "execution_count": 40,
   "metadata": {},
   "outputs": [],
   "source": [
    "# 56. 理解名字查找机制--变量域\n",
    "# 变量搜索方向：Local -> Enclosed -> Global -> Built-in\n",
    "def test(arg=None):\n",
    "    global v_1\n",
    "    v_1 = 'a'\n",
    "    def inner():\n",
    "        v_1 = 'b'\n",
    "        v_2 = 'c'\n",
    "        print(v_1)\n",
    "    inner()\n",
    "    print(v_1)\n",
    "    # print(v_2)"
   ]
  },
  {
   "cell_type": "code",
   "execution_count": 41,
   "metadata": {},
   "outputs": [
    {
     "name": "stdout",
     "output_type": "stream",
     "text": [
      "b\n",
      "a\n"
     ]
    }
   ],
   "source": [
    "test()"
   ]
  },
  {
   "cell_type": "code",
   "execution_count": 45,
   "metadata": {},
   "outputs": [],
   "source": [
    "def foo(arg):\n",
    "    a = arg\n",
    "    def bar():\n",
    "        nonlocal a\n",
    "        b = a * 2\n",
    "        a = b * 2\n",
    "        print(a)\n",
    "    return bar"
   ]
  },
  {
   "cell_type": "code",
   "execution_count": 46,
   "metadata": {},
   "outputs": [
    {
     "name": "stdout",
     "output_type": "stream",
     "text": [
      "4\n"
     ]
    }
   ],
   "source": [
    "t = foo(1)()"
   ]
  },
  {
   "cell_type": "code",
   "execution_count": 50,
   "metadata": {},
   "outputs": [],
   "source": [
    "# 57. 为什么需要self参数\n",
    "\n",
    "def foo(arg):\n",
    "    return arg.x + arg.y\n",
    "\n",
    "class Test(object):\n",
    "    def __init__(self, x_p, y_p):\n",
    "        self.x = x_p\n",
    "        self.y = y_p\n",
    "        "
   ]
  },
  {
   "cell_type": "code",
   "execution_count": 51,
   "metadata": {},
   "outputs": [],
   "source": [
    "Test.foo = foo"
   ]
  },
  {
   "cell_type": "code",
   "execution_count": 52,
   "metadata": {},
   "outputs": [
    {
     "data": {
      "text/plain": [
       "3"
      ]
     },
     "execution_count": 52,
     "metadata": {},
     "output_type": "execute_result"
    }
   ],
   "source": [
    "t = Test(1,2)\n",
    "t.foo()"
   ]
  },
  {
   "cell_type": "code",
   "execution_count": 53,
   "metadata": {},
   "outputs": [
    {
     "data": {
      "text/plain": [
       "mappingproxy({'__module__': '__main__',\n",
       "              '__init__': <function __main__.Test.__init__(self, x_p, y_p)>,\n",
       "              '__dict__': <attribute '__dict__' of 'Test' objects>,\n",
       "              '__weakref__': <attribute '__weakref__' of 'Test' objects>,\n",
       "              '__doc__': None,\n",
       "              'foo': <function __main__.foo(arg)>})"
      ]
     },
     "execution_count": 53,
     "metadata": {},
     "output_type": "execute_result"
    }
   ],
   "source": [
    "Test.__dict__"
   ]
  },
  {
   "cell_type": "code",
   "execution_count": 58,
   "metadata": {},
   "outputs": [],
   "source": [
    " class MyClass(object):\n",
    "#         def __init__(self):\n",
    "#             pass\n",
    "        def my_func(self):\n",
    "            pass\n"
   ]
  },
  {
   "cell_type": "code",
   "execution_count": 59,
   "metadata": {},
   "outputs": [
    {
     "data": {
      "text/plain": [
       "<function __main__.MyClass.my_func(self)>"
      ]
     },
     "execution_count": 59,
     "metadata": {},
     "output_type": "execute_result"
    }
   ],
   "source": [
    "MyClass.my_func"
   ]
  },
  {
   "cell_type": "code",
   "execution_count": 61,
   "metadata": {},
   "outputs": [
    {
     "data": {
      "text/plain": [
       "<function __main__.MyClass.my_func(self)>"
      ]
     },
     "execution_count": 61,
     "metadata": {},
     "output_type": "execute_result"
    }
   ],
   "source": [
    "MyClass.__dict__['my_func']"
   ]
  },
  {
   "cell_type": "code",
   "execution_count": 60,
   "metadata": {},
   "outputs": [
    {
     "data": {
      "text/plain": [
       "<bound method MyClass.my_func of <__main__.MyClass object at 0x00000217CD4A5198>>"
      ]
     },
     "execution_count": 60,
     "metadata": {},
     "output_type": "execute_result"
    }
   ],
   "source": [
    "t = MyClass()\n",
    "t.my_func"
   ]
  },
  {
   "cell_type": "code",
   "execution_count": 62,
   "metadata": {},
   "outputs": [
    {
     "data": {
      "text/plain": [
       "['__class__',\n",
       " '__delattr__',\n",
       " '__dict__',\n",
       " '__dir__',\n",
       " '__doc__',\n",
       " '__eq__',\n",
       " '__format__',\n",
       " '__ge__',\n",
       " '__getattribute__',\n",
       " '__gt__',\n",
       " '__hash__',\n",
       " '__init__',\n",
       " '__init_subclass__',\n",
       " '__le__',\n",
       " '__lt__',\n",
       " '__module__',\n",
       " '__ne__',\n",
       " '__new__',\n",
       " '__reduce__',\n",
       " '__reduce_ex__',\n",
       " '__repr__',\n",
       " '__setattr__',\n",
       " '__sizeof__',\n",
       " '__str__',\n",
       " '__subclasshook__',\n",
       " '__weakref__',\n",
       " 'my_func']"
      ]
     },
     "execution_count": 62,
     "metadata": {},
     "output_type": "execute_result"
    }
   ],
   "source": [
    "dir(t)"
   ]
  },
  {
   "cell_type": "code",
   "execution_count": 47,
   "metadata": {},
   "outputs": [
    {
     "name": "stdout",
     "output_type": "stream",
     "text": [
      "before Create OBJ\n",
      "after Create OBJ\n"
     ]
    },
    {
     "ename": "AttributeError",
     "evalue": "type object 'OBJ' has no attribute 'a'",
     "output_type": "error",
     "traceback": [
      "\u001b[1;31m---------------------------------------------------------------------------\u001b[0m",
      "\u001b[1;31mAttributeError\u001b[0m                            Traceback (most recent call last)",
      "\u001b[1;32m<ipython-input-47-776796d0598e>\u001b[0m in \u001b[0;36m<module>\u001b[1;34m()\u001b[0m\n\u001b[0;32m     24\u001b[0m     \u001b[1;32mpass\u001b[0m\u001b[1;33m\u001b[0m\u001b[0m\n\u001b[0;32m     25\u001b[0m \u001b[0mprint\u001b[0m\u001b[1;33m(\u001b[0m\u001b[1;34m'after Create OBJ'\u001b[0m\u001b[1;33m)\u001b[0m\u001b[1;33m\u001b[0m\u001b[0m\n\u001b[1;32m---> 26\u001b[1;33m \u001b[0mprint\u001b[0m\u001b[1;33m(\u001b[0m \u001b[0mOBJ\u001b[0m\u001b[1;33m.\u001b[0m\u001b[0ma\u001b[0m\u001b[1;33m)\u001b[0m\u001b[1;33m\u001b[0m\u001b[0m\n\u001b[0m",
      "\u001b[1;31mAttributeError\u001b[0m: type object 'OBJ' has no attribute 'a'"
     ]
    }
   ],
   "source": [
    "# 62. __metaclass__\n",
    "\"\"\"\n",
    "1. 你可以自由的、动态的修改/增加/删除 类的或者实例中的方法或者属性\n",
    "\n",
    "2. 批量的对某些方法使用decorator，而不需要每次都在方法的上面加入@decorator_func\n",
    "\n",
    "3. 当引入第三方库的时候，如果该库某些类需要patch的时候可以用metaclass\n",
    "\n",
    "4. 可以用于序列化(参见yaml这个库的实现，我没怎么仔细看）\n",
    "\n",
    "5. 提供接口注册，接口格式检查等\n",
    "\n",
    "6. 自动委托(auto delegate)\n",
    "\n",
    "# http://blog.jobbole.com/21351/\n",
    "# https://jianpx.iteye.com/blog/908121\n",
    "\"\"\"\n",
    "class Metaclass(type):\n",
    "    def __new__(cls, name, bases, dct):\n",
    "        print( 'HAHAHA')\n",
    "        dct['a'] = 1\n",
    "        return type.__new__(cls, name, bases, dct)\n",
    "__metaclass__ = Metaclass\n",
    "\n",
    "print( 'before Create OBJ')\n",
    "class OBJ(object):\n",
    "    pass\n",
    "print('after Create OBJ')\n",
    "print( OBJ.a)"
   ]
  },
  {
   "cell_type": "code",
   "execution_count": 39,
   "metadata": {},
   "outputs": [],
   "source": [
    "def ma(cls):  \n",
    "    print( 'method a')  \n",
    "  \n",
    "def mb(cls):  \n",
    "    print( 'method b')  \n",
    "  \n",
    "method_dict = {  \n",
    "    'ma': ma,  \n",
    "    'mb': mb,  \n",
    "}  \n",
    "global method_dict\n",
    "\n",
    "class DynamicMethod(type):  \n",
    "    def __new__(cls, name, bases, dct): \n",
    "        print(name)\n",
    "        if name[:3] == 'Abc':  \n",
    "            dct.update(method_dict)  \n",
    "            print(dct)\n",
    "        return type.__new__(cls, name, bases, dct)  \n",
    "  \n",
    "    def __init__(cls, name, bases, dct):  \n",
    "        print(name)\n",
    "        super(DynamicMethod, cls).__init__(name, bases, dct)  \n",
    "# __metaclass__ = DynamicMethod  \n",
    "  \n",
    "class AbcTest(object):  \n",
    "    __metaclass__ = DynamicMethod  \n",
    "    def mc(self, x):  \n",
    "        print (x * 3 ) \n",
    "  \n",
    "class NotAbc(object):  \n",
    "    __metaclass__ = DynamicMethod  \n",
    "    def md(self, x):  \n",
    "        print( x * 3)  \n",
    "\n",
    "MyClass = type('MyClass', (), method_dict)\n",
    "\n",
    "def main():  \n",
    "    a = AbcTest()  \n",
    "    a.mb()\n",
    "    a.ma()  \n",
    "    a.mc(3)\n",
    "  \n",
    "    b = NotAbc()  \n",
    "    print( dir(b))  "
   ]
  },
  {
   "cell_type": "code",
   "execution_count": 42,
   "metadata": {},
   "outputs": [
    {
     "name": "stdout",
     "output_type": "stream",
     "text": [
      "method b\n"
     ]
    }
   ],
   "source": [
    "t = MyClass()\n",
    "t.mb()"
   ]
  },
  {
   "cell_type": "code",
   "execution_count": 49,
   "metadata": {},
   "outputs": [],
   "source": [
    "class Mymeta(type):\n",
    "    def __new__(cls, name, bases, dct):\n",
    "        print(\"__new__ \", name)\n",
    "        return super(Mymeta, cls).__new__(cls, name, bases, dct)"
   ]
  },
  {
   "cell_type": "code",
   "execution_count": 50,
   "metadata": {},
   "outputs": [],
   "source": [
    "class A(object):\n",
    "    pass"
   ]
  },
  {
   "cell_type": "code",
   "execution_count": 51,
   "metadata": {},
   "outputs": [],
   "source": [
    "t = A()"
   ]
  },
  {
   "cell_type": "code",
   "execution_count": 2,
   "metadata": {},
   "outputs": [],
   "source": [
    "# 66. Python的生成器\n",
    "def foo(arg=None):\n",
    "    print(\"start foo.\")\n",
    "    try:\n",
    "        while True:\n",
    "            try:\n",
    "                arg = yield arg # 第二次调用的时候会返回 None\n",
    "            except Exception as e:\n",
    "                print(str(e))\n",
    "    finally:\n",
    "        print(\"end foo\")\n",
    "                "
   ]
  },
  {
   "cell_type": "code",
   "execution_count": 3,
   "metadata": {},
   "outputs": [],
   "source": [
    "g = foo(1)"
   ]
  },
  {
   "cell_type": "code",
   "execution_count": 5,
   "metadata": {},
   "outputs": [
    {
     "name": "stdout",
     "output_type": "stream",
     "text": [
      "start foo.\n"
     ]
    },
    {
     "data": {
      "text/plain": [
       "1"
      ]
     },
     "execution_count": 5,
     "metadata": {},
     "output_type": "execute_result"
    }
   ],
   "source": [
    "g.__next__()"
   ]
  },
  {
   "cell_type": "code",
   "execution_count": 11,
   "metadata": {},
   "outputs": [
    {
     "data": {
      "text/plain": [
       "2"
      ]
     },
     "execution_count": 11,
     "metadata": {},
     "output_type": "execute_result"
    }
   ],
   "source": [
    "g.send(2)"
   ]
  },
  {
   "cell_type": "code",
   "execution_count": 12,
   "metadata": {},
   "outputs": [
    {
     "data": {
      "text/plain": [
       "3"
      ]
     },
     "execution_count": 12,
     "metadata": {},
     "output_type": "execute_result"
    }
   ],
   "source": [
    "g.send(3)"
   ]
  },
  {
   "cell_type": "code",
   "execution_count": null,
   "metadata": {
    "collapsed": true
   },
   "outputs": [],
   "source": []
  }
 ],
 "metadata": {
  "kernelspec": {
   "display_name": "Python 3",
   "language": "python",
   "name": "python3"
  },
  "language_info": {
   "codemirror_mode": {
    "name": "ipython",
    "version": 3
   },
   "file_extension": ".py",
   "mimetype": "text/x-python",
   "name": "python",
   "nbconvert_exporter": "python",
   "pygments_lexer": "ipython3",
   "version": "3.6.5"
  }
 },
 "nbformat": 4,
 "nbformat_minor": 2
}
