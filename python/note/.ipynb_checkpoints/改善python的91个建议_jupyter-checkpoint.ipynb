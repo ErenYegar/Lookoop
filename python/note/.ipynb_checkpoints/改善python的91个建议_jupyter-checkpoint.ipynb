{
 "cells": [
  {
   "cell_type": "code",
   "execution_count": 1,
   "metadata": {},
   "outputs": [
    {
     "name": "stdout",
     "output_type": "stream",
     "text": [
      "my name is yauno, 24 years old in hex is 0x18, in oct is 24\n"
     ]
    }
   ],
   "source": [
    "# 28. .format使用方式\n",
    "# (1) 使用位置符号\n",
    "print(\"my name is {0}, {1:,} years old in hex is {1:#x}, in oct is {1:#}\".format(\"yauno\", 24))"
   ]
  },
  {
   "cell_type": "code",
   "execution_count": 5,
   "metadata": {},
   "outputs": [
    {
     "name": "stdout",
     "output_type": "stream",
     "text": [
      "my name is yauno, 24 years old\n"
     ]
    }
   ],
   "source": [
    "# (2) 使用名称\n",
    "print(\"my name is {name}, {year} years old\".format(name='yauno', year=24))"
   ]
  },
  {
   "cell_type": "code",
   "execution_count": 6,
   "metadata": {},
   "outputs": [],
   "source": [
    "# (3) 通过属性\n",
    "class Test():\n",
    "    def __init__(self, name, year):\n",
    "        self.name = name\n",
    "        self.year = year\n",
    "    \n",
    "    def __str__(self):\n",
    "        return \"my name is {self.name}, {self.year} years old.\".format(self=self)"
   ]
  },
  {
   "cell_type": "code",
   "execution_count": 7,
   "metadata": {},
   "outputs": [
    {
     "data": {
      "text/plain": [
       "'my name is yauno, 24 years old.'"
      ]
     },
     "execution_count": 7,
     "metadata": {},
     "output_type": "execute_result"
    }
   ],
   "source": [
    "str(Test('yauno', 24))"
   ]
  },
  {
   "cell_type": "code",
   "execution_count": 8,
   "metadata": {},
   "outputs": [
    {
     "name": "stdout",
     "output_type": "stream",
     "text": [
      "my name is yauno, 24 years old.\n"
     ]
    }
   ],
   "source": [
    "# (4) 格式化元组\n",
    "tup = ('yauno', 24)\n",
    "print(\"my name is {0[0]}, {0[1]} years old.\".format(tup))"
   ]
  },
  {
   "cell_type": "code",
   "execution_count": null,
   "metadata": {},
   "outputs": [],
   "source": []
  }
 ],
 "metadata": {
  "kernelspec": {
   "display_name": "Python 3",
   "language": "python",
   "name": "python3"
  },
  "language_info": {
   "codemirror_mode": {
    "name": "ipython",
    "version": 3
   },
   "file_extension": ".py",
   "mimetype": "text/x-python",
   "name": "python",
   "nbconvert_exporter": "python",
   "pygments_lexer": "ipython3",
   "version": "3.6.5"
  }
 },
 "nbformat": 4,
 "nbformat_minor": 2
}
