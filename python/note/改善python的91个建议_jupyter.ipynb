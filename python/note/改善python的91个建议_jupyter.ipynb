{
 "cells": [
  {
   "cell_type": "code",
   "execution_count": 1,
   "metadata": {},
   "outputs": [
    {
     "name": "stdout",
     "output_type": "stream",
     "text": [
      "my name is yauno, 24 years old in hex is 0x18, in oct is 24\n"
     ]
    }
   ],
   "source": [
    "# 28. .format使用方式\n",
    "# (1) 使用位置符号\n",
    "print(\"my name is {0}, {1:,} years old in hex is {1:#x}, in oct is {1:#}\".format(\"yauno\", 24))"
   ]
  },
  {
   "cell_type": "code",
   "execution_count": 5,
   "metadata": {},
   "outputs": [
    {
     "name": "stdout",
     "output_type": "stream",
     "text": [
      "my name is yauno, 24 years old\n"
     ]
    }
   ],
   "source": [
    "# (2) 使用名称\n",
    "print(\"my name is {name}, {year} years old\".format(name='yauno', year=24))"
   ]
  },
  {
   "cell_type": "code",
   "execution_count": 6,
   "metadata": {},
   "outputs": [],
   "source": [
    "# (3) 通过属性\n",
    "class Test():\n",
    "    def __init__(self, name, year):\n",
    "        self.name = name\n",
    "        self.year = year\n",
    "    \n",
    "    def __str__(self):\n",
    "        return \"my name is {self.name}, {self.year} years old.\".format( =self)"
   ]
  },
  {
   "cell_type": "code",
   "execution_count": 7,
   "metadata": {},
   "outputs": [
    {
     "data": {
      "text/plain": [
       "'my name is yauno, 24 years old.'"
      ]
     },
     "execution_count": 7,
     "metadata": {},
     "output_type": "execute_result"
    }
   ],
   "source": [
    "str(Test('yauno', 24))"
   ]
  },
  {
   "cell_type": "code",
   "execution_count": 8,
   "metadata": {},
   "outputs": [
    {
     "name": "stdout",
     "output_type": "stream",
     "text": [
      "my name is yauno, 24 years old.\n"
     ]
    }
   ],
   "source": [
    "# (4) 格式化元组\n",
    "tup = ('yauno', 24)\n",
    "print(\"my name is {0[0]}, {0[1]} years old.\".format(tup))"
   ]
  },
  {
   "cell_type": "code",
   "execution_count": 21,
   "metadata": {},
   "outputs": [],
   "source": [
    "# 35. stacticmethod 与 classmethod区别\n",
    "# 两者都是给类使用的\n",
    "\n",
    "import time\n",
    "class Date:\n",
    "    def __init__(self, year, month, day):\n",
    "        self.year = year\n",
    "        self.month = month\n",
    "        self.day = day\n",
    "        \n",
    "    @staticmethod\n",
    "    def now(): #用Date.now()的形式去产生实例,该实例用的是当前时间\n",
    "        t=time.localtime() #获取结构化的时间格式\n",
    "        return Date(t.tm_year,t.tm_mon,t.tm_mday) #新建实例并且返回\n",
    "    \n",
    "    @staticmethod\n",
    "    def tomorrow():#用Date.tomorrow()的形式去产生实例,该实例用的是明天的时间\n",
    "        t=time.localtime(time.time()+86400)\n",
    "        return Date(t.tm_year,t.tm_mon,t.tm_mday)"
   ]
  },
  {
   "cell_type": "code",
   "execution_count": 22,
   "metadata": {},
   "outputs": [
    {
     "name": "stdout",
     "output_type": "stream",
     "text": [
      "1987 11 27\n",
      "2019 1 29\n",
      "2019 1 30\n"
     ]
    }
   ],
   "source": [
    "\n",
    "a=Date('1987', 11, 27) #自己定义时间\n",
    "b=Date.now() #采用当前时间\n",
    "c=Date.tomorrow() #采用明天的时间\n",
    "\n",
    "print(a.year,a.month,a.day)\n",
    "print(b.year,b.month,b.day)\n",
    "print(c.year,c.month,c.day)"
   ]
  },
  {
   "cell_type": "code",
   "execution_count": 25,
   "metadata": {},
   "outputs": [],
   "source": [
    "import time\n",
    "\n",
    "class Date:\n",
    "    def __init__(self, year, month, day):\n",
    "        self.year = year\n",
    "        self.month = month\n",
    "        self.day = day\n",
    "        \n",
    "    @classmethod\n",
    "    def now(cls):\n",
    "        t=time.localtime()\n",
    "        return cls(t.tm_year,t.tm_mon,t.tm_mday)\n",
    "    \n",
    "class TestDate(Date):\n",
    "    def __str__(self):\n",
    "        return 'year: {self.year}, month: {self.month}, day: {self.day}'.format(self=self)"
   ]
  },
  {
   "cell_type": "code",
   "execution_count": 26,
   "metadata": {},
   "outputs": [
    {
     "name": "stdout",
     "output_type": "stream",
     "text": [
      "year: 2019, month: 1, day: 29\n"
     ]
    }
   ],
   "source": [
    "test = TestDate.now()\n",
    "print(test)"
   ]
  },
  {
   "cell_type": "code",
   "execution_count": 37,
   "metadata": {},
   "outputs": [
    {
     "data": {
      "text/plain": [
       "(['b', 2, 'bb'], ['a', 1, 'aa'])"
      ]
     },
     "execution_count": 37,
     "metadata": {},
     "output_type": "execute_result"
    }
   ],
   "source": [
    "# 37. sorted 与 sort()的使用\n",
    "from operator import itemgetter\n",
    "\n",
    "test_data = [['a',1,'aa'], ['b', 2, 'bb']]\n",
    "func = itemgetter(1, 0)\n",
    "func(test_data)"
   ]
  },
  {
   "cell_type": "code",
   "execution_count": null,
   "metadata": {},
   "outputs": [],
   "source": []
  }
 ],
 "metadata": {
  "kernelspec": {
   "display_name": "Python 3",
   "language": "python",
   "name": "python3"
  },
  "language_info": {
   "codemirror_mode": {
    "name": "ipython",
    "version": 3
   },
   "file_extension": ".py",
   "mimetype": "text/x-python",
   "name": "python",
   "nbconvert_exporter": "python",
   "pygments_lexer": "ipython3",
   "version": "3.6.5"
  }
 },
 "nbformat": 4,
 "nbformat_minor": 2
}
