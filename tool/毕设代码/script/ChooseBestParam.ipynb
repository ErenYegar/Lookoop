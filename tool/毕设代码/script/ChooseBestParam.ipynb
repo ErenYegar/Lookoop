{
 "cells": [
  {
   "cell_type": "code",
   "execution_count": 1,
   "metadata": {},
   "outputs": [
    {
     "name": "stderr",
     "output_type": "stream",
     "text": [
      "C:\\ProgramData\\Anaconda3\\lib\\site-packages\\sklearn\\ensemble\\weight_boosting.py:29: DeprecationWarning: numpy.core.umath_tests is an internal NumPy module and should not be imported. It will be removed in a future NumPy release.\n",
      "  from numpy.core.umath_tests import inner1d\n"
     ]
    }
   ],
   "source": [
    "from sklearn.model_selection import cross_val_score, GridSearchCV, KFold\n",
    "from sklearn.linear_model import LinearRegression\n",
    "from sklearn.linear_model import Ridge, RidgeCV\n",
    "from sklearn.linear_model import Lasso\n",
    "from sklearn.ensemble import RandomForestRegressor, GradientBoostingRegressor, ExtraTreesRegressor, AdaBoostRegressor, BaggingRegressor\n",
    "from sklearn.svm import SVR, LinearSVR\n",
    "from sklearn.linear_model import ElasticNet, SGDRegressor, BayesianRidge\n",
    "from sklearn.kernel_ridge import KernelRidge\n",
    "from sklearn.tree import DecisionTreeRegressor\n",
    "from sklearn.neighbors import KNeighborsRegressor\n",
    "from xgboost import XGBRegressor"
   ]
  },
  {
   "cell_type": "code",
   "execution_count": 2,
   "metadata": {},
   "outputs": [],
   "source": [
    "import pickle\n",
    "def getData(dataFilePath):\n",
    "    \"\"\"读取数据\"\"\"\n",
    "    data = pickle.load(open(dataFilePath, 'rb'))\n",
    "\n",
    "    return data "
   ]
  },
  {
   "cell_type": "code",
   "execution_count": 101,
   "metadata": {},
   "outputs": [],
   "source": [
    "import numpy as np\n",
    "def cv_rmse(model, X, y):\n",
    "    # cross_val_score函数用法：https://www.cnblogs.com/lzhc/p/9175707.html\n",
    "    rmse = np.sqrt(cv_mse(model, X, y))\n",
    "    return rmse\n",
    "\n",
    "def cv_mse(model, X, y):\n",
    "    rmse = -cross_val_score(model, X, y, scoring=\"neg_mean_squared_error\", cv=5)\n",
    "    return rmse"
   ]
  },
  {
   "cell_type": "code",
   "execution_count": 7,
   "metadata": {},
   "outputs": [
    {
     "name": "stdout",
     "output_type": "stream",
     "text": [
      "[[   0.      0.      0.      0.      0.  ]\n",
      " [  42.18 -142.08 -130.84  233.82  124.2 ]\n",
      " [ -60.    168.3  -121.16  -56.34  -77.  ]\n",
      " [ 285.96 -285.3   -98.88 -228.72   69.96]\n",
      " [ 144.66 -222.36 -160.4   290.82  -10.96]\n",
      " [ -61.56 -117.66 -111.24  153.24  -84.12]\n",
      " [  37.92  -66.42   27.56 -154.2   110.8 ]\n",
      " [-169.74  243.78   16.8  -269.46 -116.92]\n",
      " [  12.96   20.46 -194.68  175.86  181.8 ]\n",
      " [ 263.04  281.76  -30.56   -3.6  -105.56]\n",
      " [ 195.42 -167.76 -216.36  242.16   15.8 ]\n",
      " [ -82.92   46.44 -260.96  200.1   144.08]\n",
      " [ 231.18 -240.72   69.2   -21.6   173.08]\n",
      " [-126.12  114.06   49.44 -126.54   59.92]\n",
      " [ 125.82  -81.54  -17.92 -112.38 -134.52]\n",
      " [-267.48   -7.14   -3.48   91.8  -132.68]\n",
      " [  96.6   -47.22 -237.88  134.16  195.88]\n",
      " [ -26.88 -128.88  -36.6  -252.84  -46.92]\n",
      " [ 219.18  239.7  -286.04   15.66 -174.8 ]\n",
      " [ 259.86 -216.6  -171.24 -197.46  -61.72]\n",
      " [-208.86  274.26 -224.88  -64.14  -34.32]\n",
      " [-235.32  193.14  -60.64   52.32 -167.36]\n",
      " [-111.42 -276.54   94.44  -91.5    36.84]\n",
      " [-150.72  210.72   36.08 -211.32 -189.4 ]\n",
      " [-189.    138.6    81.92 -179.82   48.4 ]\n",
      " [ 105.84   70.8  -297.72   69.66  101.32]\n",
      " [-282.6   -28.8  -256.24  103.38  150.16]\n",
      " [  78.   -199.32  -53.28  187.08   86.  ]\n",
      " [ 163.5   159.24 -191.28 -290.88  -20.48]\n",
      " [-255.24   90.06  -82.36  266.34   12.24]\n",
      " [  -5.7     0.48 -143.08   29.34 -158.04]]\n",
      "********************\n",
      "[39435.643 38071.185 39200.969 39193.068 37650.16  39066.458 39035.507\n",
      " 38455.18  38374.768 37974.92  39167.307 38902.142 39334.767 37980.654\n",
      " 38298.512 39840.227 38051.073 38501.634 38330.912 39060.899 39617.136\n",
      " 38163.894 39591.876 37145.634 37913.137 38977.855 38604.855 38008.155\n",
      " 39062.525 38227.168 38967.278]\n"
     ]
    }
   ],
   "source": [
    "dataFilePath = r\"C:\\Study\\github\\Lookoops\\tool\\毕设代码\\data\\samples-data.data\"\n",
    "labelsFilePath = r\"C:\\Study\\github\\Lookoops\\tool\\毕设代码\\data\\samples-data-labels.data\"\n",
    "X = getData(dataFilePath)\n",
    "y = getData(labelsFilePath)\n",
    "Y = y.reshape(1, len(y))[0]\n",
    "print(X)\n",
    "print(\"*\"*20)\n",
    "print(Y)"
   ]
  },
  {
   "cell_type": "code",
   "execution_count": 50,
   "metadata": {},
   "outputs": [],
   "source": [
    "models = [LinearRegression(),\n",
    "          Ridge(), # http://www.cnblogs.com/pinard/p/6023000.html\n",
    "          Lasso(alpha=0.01,max_iter=10000), # https://scikit-learn.org/stable/modules/generated/sklearn.linear_model.Lasso.html\n",
    "          RandomForestRegressor(), # https://scikit-learn.org/dev/modules/generated/sklearn.ensemble.RandomForestRegressor.html\n",
    "          GradientBoostingRegressor(), # https://scikit-learn.org/stable/modules/generated/sklearn.ensemble.GradientBoostingRegressor.html\n",
    "          SVR(), # https://scikit-learn.org/stable/modules/generated/sklearn.svm.SVR.html#sklearn.svm.SVR\n",
    "          LinearSVR(), # https://scikit-learn.org/stable/modules/generated/sklearn.svm.LinearSVR.html\n",
    "          ElasticNet(alpha=0.001,max_iter=10000), # https://scikit-learn.org/stable/modules/generated/sklearn.linear_model.ElasticNet.html\n",
    "          SGDRegressor(max_iter=10000,tol=1e-3), # https://scikit-learn.org/stable/modules/generated/sklearn.linear_model.SGDRegressor.html\n",
    "          BayesianRidge(), # \n",
    "          KernelRidge(alpha=0.6, kernel='polynomial', degree=2, coef0=2.5), # https://scikit-learn.org/stable/modules/generated/sklearn.kernel_ridge.KernelRidge.html\n",
    "         ExtraTreesRegressor(), # https://scikit-learn.org/stable/modules/generated/sklearn.ensemble.ExtraTreesRegressor.html\n",
    "          XGBRegressor(), \n",
    "          AdaBoostRegressor(n_estimators=50), # https://scikit-learn.org/stable/modules/generated/sklearn.ensemble.AdaBoostRegressor.html\n",
    "          BaggingRegressor(), # https://scikit-learn.org/stable/modules/generated/sklearn.ensemble.BaggingRegressor.html\n",
    "          DecisionTreeRegressor(), #https://scikit-learn.org/stable/modules/generated/sklearn.tree.DecisionTreeRegressor.html\n",
    "          KNeighborsRegressor()] # https://scikit-learn.org/0.18/modules/generated/sklearn.neighbors.KNeighborsRegressor.html"
   ]
  },
  {
   "cell_type": "code",
   "execution_count": 103,
   "metadata": {},
   "outputs": [
    {
     "name": "stdout",
     "output_type": "stream",
     "text": [
      "LR: 730.484932, 139.2713\n",
      "Ridge: 730.483928, 139.2717\n",
      "Lasso: 730.484824, 139.2713\n",
      "RF: 729.002173, 181.9809\n",
      "GBR: 782.192409, 113.5257\n",
      "SVR: 661.252776, 182.2134\n",
      "LinSVR: 28991.287066, 6662.4788\n",
      "Ela: 730.484914, 139.2713\n",
      "SGD: 286743911699273.562500, 68731878454941.1016\n",
      "Bay: 623.333074, 178.1188\n",
      "Ker: 4670.402649, 3445.9364\n",
      "Extra: 658.341334, 136.1935\n",
      "Xgb: 789.280481, 85.1577\n",
      "AdaBoost: 777.094022, 87.3443\n",
      "Bagging: 763.008852, 115.6027\n",
      "DT: 1003.386169, 176.9465\n",
      "KN: 690.915668, 169.9492\n"
     ]
    }
   ],
   "source": [
    "names = [\"LR\", \"Ridge\", \"Lasso\", \"RF\", \"GBR\", \"SVR\", \"LinSVR\", \"Ela\",\"SGD\",\"Bay\",\"Ker\",\"Extra\",\"Xgb\", \"AdaBoost\", \"Bagging\", \"DT\", \"KN\"]\n",
    "for name, model in zip(names, models):\n",
    "    score = cv_rmse(model, X, Y)\n",
    "    print(\"{}: {:.6f}, {:.4f}\".format(name,score.mean(), score.std()))"
   ]
  },
  {
   "cell_type": "code",
   "execution_count": 78,
   "metadata": {},
   "outputs": [],
   "source": [
    "import pandas as pd\n",
    "class grid():\n",
    "    def __init__(self, model):\n",
    "        self.model = model\n",
    "        \n",
    "    def grid_train(self, X, y, train_para):\n",
    "        grid_search = GridSearchCV(self.model, train_para, cv=5, scoring=\"neg_mean_squared_error\", return_train_score=True)\n",
    "        grid_search.fit(X, y)\n",
    "        print(grid_search.best_params_, np.sqrt(-grid_search.best_score_)) # 打印最好的结果\n",
    "        grid_search.cv_results_['mean_test_score'] = np.sqrt(-grid_search.cv_results_['mean_test_score'])\n",
    "#         print(pd.DataFrame(grid_search.cv_results_)[['params','mean_test_score','std_test_score']])"
   ]
  },
  {
   "cell_type": "code",
   "execution_count": 53,
   "metadata": {},
   "outputs": [],
   "source": [
    "# grid(Lasso()).grid_train(X,Y,{'alpha': [0.002, 0.0003, 0.00035, 0.0004,0.0005,0.0007,0.0006,0.0009,0.0008], 'max_iter':[10000]})"
   ]
  },
  {
   "cell_type": "code",
   "execution_count": 54,
   "metadata": {},
   "outputs": [],
   "source": [
    "# grid(Ridge()).grid_train(X,Y,{'alpha':[i for i in range(10, 20)]})"
   ]
  },
  {
   "cell_type": "code",
   "execution_count": 97,
   "metadata": {},
   "outputs": [
    {
     "name": "stdout",
     "output_type": "stream",
     "text": [
      "{'max_depth': 1, 'n_estimators': 20} 686.9222317577\n"
     ]
    }
   ],
   "source": [
    "grid(RandomForestRegressor()).grid_train(X, Y,{'max_depth':[i for i in range(1, 10)]+[None], 'n_estimators':[i for i in range(10, 120, 10)]})"
   ]
  },
  {
   "cell_type": "code",
   "execution_count": 42,
   "metadata": {},
   "outputs": [
    {
     "name": "stdout",
     "output_type": "stream",
     "text": [
      "{'learning_rate': 0.2, 'n_estimators': 50} 761.9353750810606\n"
     ]
    }
   ],
   "source": [
    "grid(GradientBoostingRegressor()).grid_train(X,Y,{'learning_rate':[float(i/10) for i in range(1, 10)], 'n_estimators':[i for i in range(50, 150, 10)]})"
   ]
  },
  {
   "cell_type": "code",
   "execution_count": 100,
   "metadata": {},
   "outputs": [
    {
     "name": "stdout",
     "output_type": "stream",
     "text": [
      "{'epsilon': 1000, 'gamma': 0.0001, 'kernel': 'rbf'} 639.0902002451987\n"
     ]
    }
   ],
   "source": [
    "grid(SVR()).grid_train(X,Y,\n",
    "                       {\n",
    "                           'kernel':['rbf'], \n",
    "                           'gamma':[0.0001, 0.0005, 0.001,0.005, 0.01, 0.05, 0.1, 0.5],\n",
    "                           'epsilon':[0.0005, 0.001,0.005, 0.01, 0.05, 0.1, 0.5, 1, 10, 20, 50, 100, 500, 1000, 5000]\n",
    "                       })"
   ]
  },
  {
   "cell_type": "code",
   "execution_count": 58,
   "metadata": {},
   "outputs": [
    {
     "name": "stdout",
     "output_type": "stream",
     "text": [
      "{'epsilon': 0.01, 'loss': 'squared_epsilon_insensitive'} 15177.775903622676\n"
     ]
    }
   ],
   "source": [
    "grid(LinearSVR()).grid_train(X,Y,{'epsilon':[0.0005, 0.001,0.005, 0.01, 0.05, 0.1, 0.5], 'loss':['epsilon_insensitive', 'squared_epsilon_insensitive']})"
   ]
  },
  {
   "cell_type": "code",
   "execution_count": 59,
   "metadata": {},
   "outputs": [
    {
     "name": "stdout",
     "output_type": "stream",
     "text": [
      "{'learning_rate': 0.2} 770.716243656305\n"
     ]
    }
   ],
   "source": [
    "grid(GradientBoostingRegressor()).grid_train(X,Y,{'learning_rate':[float(i/10) for i in range(1, 10)]})"
   ]
  },
  {
   "cell_type": "code",
   "execution_count": 60,
   "metadata": {},
   "outputs": [
    {
     "name": "stdout",
     "output_type": "stream",
     "text": [
      "{'alpha': 0.5, 'l1_ratio': 0.08, 'max_iter': 10000} 744.3100332644116\n"
     ]
    }
   ],
   "source": [
    "grid(ElasticNet()).grid_train(X,Y,{'alpha':[0.0005, 0.001,0.005, 0.01, 0.05, 0.1, 0.5],'l1_ratio':[0.08,0.1,0.3,0.5,0.7],'max_iter':[10000]})"
   ]
  },
  {
   "cell_type": "code",
   "execution_count": 64,
   "metadata": {},
   "outputs": [],
   "source": [
    "# 报错\n",
    "# grid(SGDRegressor()).grid_train(X,Y,{'alpha':[0.005, 0.01, 0.05, 0.1,0.2, 0.3, 0.4, 0.5, 0.6, 0.7, 0.8, 0.9, 1, 5],'l1_ratio':[0.08,0.1,0.3,0.5,0.7, 0.8, 0.9, 1]})"
   ]
  },
  {
   "cell_type": "code",
   "execution_count": 79,
   "metadata": {},
   "outputs": [
    {
     "name": "stdout",
     "output_type": "stream",
     "text": [
      "{'alpha_1': 1e-06, 'alpha_2': 1e-06, 'tol': 0.0001} 648.2003756817544\n"
     ]
    }
   ],
   "source": [
    "grid(BayesianRidge()).grid_train(X,Y, {'alpha_1':[1e-6, 5e-6, 1e-5], 'alpha_2':[5e-7, 1e-6], 'tol':[0.0001, 0.0005, 0.001, 0.002, 0.005, 0.01]})"
   ]
  },
  {
   "cell_type": "code",
   "execution_count": 23,
   "metadata": {},
   "outputs": [],
   "source": [
    "# grid(KernelRidge()).grid_train(X,Y,{'alpha':[0.05, 0.1, 0.3,0.4, 0.5, 0.6, 0.7, 0.8, 0.9, 1, 5], 'kernel':['polynomial'], 'coef0':[1, 1.2, 1.5, 1.6, 1.8, 1.9, 2, 2.2, 2.5, 3]})"
   ]
  },
  {
   "cell_type": "code",
   "execution_count": 88,
   "metadata": {},
   "outputs": [
    {
     "name": "stdout",
     "output_type": "stream",
     "text": [
      "{'min_samples_leaf': 0.4, 'min_samples_split': 0.1} 652.7785167854623\n"
     ]
    }
   ],
   "source": [
    "grid(ExtraTreesRegressor()).grid_train(X, Y,{'min_samples_split':[i/10 for i in range(1, 10)], 'min_samples_leaf':[i/10 for i in range(1, 5)]})"
   ]
  },
  {
   "cell_type": "code",
   "execution_count": 89,
   "metadata": {},
   "outputs": [
    {
     "name": "stdout",
     "output_type": "stream",
     "text": [
      "{'learning_rate': 0.3, 'n_estimators': 50} 710.2285467477809\n"
     ]
    }
   ],
   "source": [
    "grid(AdaBoostRegressor()).grid_train(X, Y, {'n_estimators':[i for i in range(10, 100, 10)], 'learning_rate':[i/10 for i in range(1, 10)]})"
   ]
  },
  {
   "cell_type": "code",
   "execution_count": 92,
   "metadata": {},
   "outputs": [
    {
     "name": "stdout",
     "output_type": "stream",
     "text": [
      "{'n_estimators': 7} 646.5600072210289\n"
     ]
    }
   ],
   "source": [
    "grid(BaggingRegressor()).grid_train(X, Y, {'n_estimators':[i for i in range(1, 50)]})"
   ]
  },
  {
   "cell_type": "code",
   "execution_count": 93,
   "metadata": {},
   "outputs": [
    {
     "name": "stdout",
     "output_type": "stream",
     "text": [
      "{} 1012.1550463240105\n"
     ]
    }
   ],
   "source": [
    "grid(DecisionTreeRegressor()).grid_train(X, Y, {})"
   ]
  },
  {
   "cell_type": "code",
   "execution_count": 95,
   "metadata": {},
   "outputs": [
    {
     "name": "stdout",
     "output_type": "stream",
     "text": [
      "{'n_neighbors': 19} 668.2343036656489\n"
     ]
    }
   ],
   "source": [
    "grid(KNeighborsRegressor()).grid_train(X, Y, {'n_neighbors':[i for i in range(1, 20)]})"
   ]
  }
 ],
 "metadata": {
  "kernelspec": {
   "display_name": "Python 3",
   "language": "python",
   "name": "python3"
  },
  "language_info": {
   "codemirror_mode": {
    "name": "ipython",
    "version": 3
   },
   "file_extension": ".py",
   "mimetype": "text/x-python",
   "name": "python",
   "nbconvert_exporter": "python",
   "pygments_lexer": "ipython3",
   "version": "3.6.5"
  }
 },
 "nbformat": 4,
 "nbformat_minor": 2
}
